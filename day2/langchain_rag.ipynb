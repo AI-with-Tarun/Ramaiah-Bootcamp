{
  "nbformat": 4,
  "nbformat_minor": 0,
  "metadata": {
    "colab": {
      "provenance": []
    },
    "kernelspec": {
      "name": "python3",
      "display_name": "Python 3"
    },
    "language_info": {
      "name": "python"
    }
  },
  "cells": [
    {
      "cell_type": "code",
      "execution_count": null,
      "metadata": {
        "id": "wChDJ-LEfiUW"
      },
      "outputs": [],
      "source": [
        "!pip install langchain langchain-community\n",
        "!pip install langchain-google-genai\n",
        "!pip install langchain-qdrant"
      ]
    },
    {
      "cell_type": "markdown",
      "source": [
        "## Setup the API key"
      ],
      "metadata": {
        "id": "4MzxSSH_KW_W"
      }
    },
    {
      "cell_type": "code",
      "source": [
        "import os\n",
        "from google.colab import userdata\n",
        "\n",
        "os.environ['GOOGLE_API_KEY'] = userdata.get('GOOGLE_API_KEY')"
      ],
      "metadata": {
        "id": "q1AGOMcqKY5W"
      },
      "execution_count": null,
      "outputs": []
    },
    {
      "cell_type": "markdown",
      "source": [
        "## External Data"
      ],
      "metadata": {
        "id": "IGeaKJXrGWdd"
      }
    },
    {
      "cell_type": "code",
      "source": [
        "# Retrieval\n",
        "from langchain_community.document_loaders import WebBaseLoader\n",
        "from langchain_text_splitters import RecursiveCharacterTextSplitter\n",
        "from langchain_google_genai import GoogleGenerativeAIEmbeddings\n",
        "# Vector Database\n",
        "from langchain_qdrant import QdrantVectorStore\n",
        "from qdrant_client import QdrantClient\n",
        "from qdrant_client.http.models import Distance, VectorParams\n",
        "# Augmentation\n",
        "from langchain_core.prompts import PromptTemplate\n",
        "# Generation\n",
        "from langchain_google_genai import ChatGoogleGenerativeAI\n",
        "from langchain_core.runnables import RunnablePassthrough\n",
        "from langchain.schema import StrOutputParser"
      ],
      "metadata": {
        "id": "uEWPIzRNGXyp",
        "colab": {
          "base_uri": "https://localhost:8080/"
        },
        "outputId": "cd605ad7-76e7-45d7-e87c-b40e34d8eea3"
      },
      "execution_count": null,
      "outputs": [
        {
          "output_type": "stream",
          "name": "stderr",
          "text": [
            "WARNING:langchain_community.utils.user_agent:USER_AGENT environment variable not set, consider setting it to identify your requests.\n"
          ]
        }
      ]
    },
    {
      "cell_type": "code",
      "source": [
        "URLs = [\n",
        "    \"https://www.amazon.in/gp/help/customer/display.html?nodeId=GDF5PQP4Z6SUH4CQ\",\n",
        "    \"https://www.amazon.in/gp/help/customer/display.html?ref_=hp_left_v4_sib&nodeId=GW2QNFK3F7T8ULDS\"\n",
        "]"
      ],
      "metadata": {
        "id": "WbTI_dMwF8k3"
      },
      "execution_count": null,
      "outputs": []
    },
    {
      "cell_type": "markdown",
      "source": [
        "## Load the data and chunk it"
      ],
      "metadata": {
        "id": "Pf0O61EbRCz6"
      }
    },
    {
      "cell_type": "code",
      "source": [
        "loader = WebBaseLoader(\n",
        "    web_paths = URLs,\n",
        ")\n",
        "docs = loader.load()"
      ],
      "metadata": {
        "id": "oklQXEoWHTI9"
      },
      "execution_count": null,
      "outputs": []
    },
    {
      "cell_type": "code",
      "source": [
        "for data_content in docs:\n",
        "    data_content.page_content = data_content.page_content.replace(\"\\n\", \" \")"
      ],
      "metadata": {
        "id": "Th3DBB0jIdL2"
      },
      "execution_count": null,
      "outputs": []
    },
    {
      "cell_type": "code",
      "source": [
        "docs"
      ],
      "metadata": {
        "id": "Mi5a_H-CJRjd",
        "colab": {
          "base_uri": "https://localhost:8080/"
        },
        "outputId": "c485bc74-4758-4cb4-b048-6a687cf40e08"
      },
      "execution_count": null,
      "outputs": [
        {
          "output_type": "execute_result",
          "data": {
            "text/plain": [
              "[Document(metadata={'source': 'https://www.amazon.in/gp/help/customer/display.html?nodeId=GDF5PQP4Z6SUH4CQ', 'title': 'Ordering with Amazon - FAQ - Amazon Customer Service', 'description': 'Know about how to place an order with Amazon, how to cancel or modify your orders and how to change the payment methods To check the below information in your preferred regional language, select the link: English, हिन्दी (Hindi), தமிழ் (Tamil), తెలుగు (Telugu), ಕನ್ನಡ (Kannada), മലയാളം (Malayalam), मराठी (Marathi), বাংলা (Bengali)', 'language': 'en-in'}, page_content='                                Ordering with Amazon - FAQ - Amazon Customer Service                                                Shortcuts menu   Skip to            Main content                  Keyboard shortcuts        Search  alt + /        Cart  shift + alt + C        Home  shift + alt + H        Orders  shift + alt + O        Open/close shortcuts menu  shift + alt + Z           To move between items, use your keyboard\\'s up or down arrows.                .in                             Delivering to Mumbai 400001                                      Update location                                      All   Select the department you want to search in  All Categories Alexa Skills Amazon Devices Amazon Fashion Amazon Fresh Amazon Fresh Meat Amazon Pharmacy Appliances Apps & Games Audible Audiobooks Baby Beauty Books Car & Motorbike Clothing & Accessories Collectibles Computers & Accessories Deals Electronics Furniture Garden & Outdoors Gift Cards Grocery & Gourmet Foods Health & Personal Care Home & Kitchen Industrial & Scientific Jewellery Kindle Store Luggage & Bags Luxury Beauty Movies & TV Shows MP3 Music Music Musical Instruments Office Products Pet Supplies Prime Video Shoes & Handbags Software Sports, Fitness & Outdoors Subscribe & Save Tools & Home Improvement Toys & Games Under ₹500 Video Games Watches       Search Amazon.in                          EN        Hello, sign in Account & Lists        Returns & Orders    0               Cart                       All              Fresh       MX Player     Sell     Bestsellers     Today\\'s Deals     Mobiles     Fashion     Prime       Customer Service     New Releases      Electronics      Home & Kitchen     Amazon Pay     Car & Motorbike     Computers     Books     Toys & Games     Beauty & Personal Care     Home Improvement     Gift Cards     Health, Household & Personal Care     Sports, Fitness & Outdoors     Grocery & Gourmet Foods     Baby     Custom Products     Video Games     Pet Supplies     Gift Ideas\\t     AmazonBasics     Audible     Subscribe & Save                                     Help and Customer Service                                                  Find more solutions                                                                                Ordering                  \\xa0›\\xa0                        Placing Orders                  \\xa0›\\xa0     Ordering with Amazon - FAQ   Know about how to place an order with Amazon, how to cancel or modify your orders             and how to change the payment methods  To check the below information in your preferred regional language, select the link:             English, हिन्दी (Hindi), தமிழ் (Tamil), తెలుగు (Telugu), ಕನ್ನಡ (Kannada), മലയാളം (Malayalam), मराठी (Marathi), বাংলা (Bengali)    Select the link to go to  Your Orders    Frequently Asked Questions    How to place an order with Amazon? Why am I unable to place an order? How to change quantities of Orders in the cart? Can I change or modify orders that are already placed? How to place bulk orders? How to update delivery instructions? How to change the payment method? What is cash on delivery? How to cancel orders? How to place Gift orders? What is Amazon Bazaar?    How to place orders in Amazon     To begin ordering, you may visit the Amazon website. If you are using an Android             phone, you may download and install the Amazon Shopping app here.  iPhone uers may download the Amazon shopping app here.   Steps to place an order:  Select the items which you want to order.  Add those items to your “Shopping Cart”. After reviewing your shopping cart, select “Proceed to Checkout”.  You’ll be prompted to sign in to Amazon.in account, you can sign in using your mobile                         number or email address if you already have an account.  If you’re a new customer, select “I am a new customer” option on the sign in page                         to create a new account. Here\\'s an helpful page to Get Started with Amazon. Enter the address where you want to receive your order/select the Pickup store as                         per the availability by searching in the available criteria.  If it a gift for someone/ if you want your order to be gift wrapped, then select gift-wrap                         option and include a gift message. Select the payment method, add the details and select “Continue”.   Review your order and select “Place your Order” button and Pay to complete the transaction.   Note: The delivery speeds, dates and delivery address cannot be changed once an order is                   placed.   To explore more help pages on ordering, exchange offer, installation and save & subscribe          option, check this Help page.   Why am I unable to place orders? This could be due to the following issues:  There is a Payment decline. Please select here to know more about Payment issues. The item you have selected is out of stock. There is some technical or internet connectivity issue. Undeliverable to selected location/pincode.  There is a quantity limit. Sometimes when Fulfiiled by Amazon and seller fulfilled items are clubbed together,                   the order processing takes time.    How can I change or modify the quantity of orders in the cart?  To change the quantity for items you have not yet added to the cart -   Once you select the \"Add to Cart\" button and add the item to your shopping cart,             enter the desired quantity in the \"Quantity\" dropdown option on the right side of             the page.  To change the quantity for items already added to the cart -   Go to Cart, select the quantity dropdown box to the right of the title and choose             the desired quantity. The quantity number for the item and order amount will be updated             automatically.  If the entered quantity is not available with us, you\\'ll see an error message.    Can I change or modify orders that are already placed? You would not be able to change or modify the number of items once you have already             placed an order. You can place another fresh order with the desired modifications.             However, you can change your shipping preferences in Your Account at any time after placing your order as long as the order hasn\\'t entered the shipping             process yet.   How to place Bulk Orders?  You can bulk order new products from Amazon Business. To order, select the following             link:https://www.amazon.in/ab/bulk-order/   You can also access Bulk Ordering by hovering over your Account for Business menu             and selecting Bulk Ordering from the drop-down menu. Enter the ISBNs or ASINs into             the online form, or download a copy of the form to fill out and upload later. Amazon Business offers the option to bulk buy products for business customers at no             extra cost. You can also get an option of quantity discount.   How to Update Delivery instructions? Tell us what you\\'d like us to do with your parcel if you\\'re not at home to receive             it. Your delivery instructions can be accessed in multiple locations:  Your address book. The checkout process Your order confirmation page The progress tracker  Select update delivery instructions under your delivery address, if this option is             available. A window appears. update your delivery instructions and select Save instructions. Note: We try to honour your delivery instructions whenever possible. However, we can\\'t             always guarantee that our carriers can meet these requests.  For more information on How to update delivery instructions, click  here.   How to change the payment method? You can add or update your payment methods by selecting the payments options section             in Your Account. To manage payment methods, select  this link.   What is Cash on Delivery?  Cash on Delivery is one of the payment methods for making purchases on Amazon.in.             When you select Cash on Delivery as your payment method, you don\\'t have to make any             advance payment. You pay for your order only when you receive it. Select  this link to know more about Cash on Delivery.    How to cancel orders? You can cancel items or orders by visiting the Your Orders section in Your Account.   To cancel orders that aren\\'t yet out for delivery:   Go to Your Orders. Select the item you want to cancel and click Cancel items. Provide reasons for cancellation (optional). Click on Cancel Checked Items.    To cancel an order that is already out for delivery:   Go to Your Orders. Select the Request cancellation option and proceed further. The item(s) will be returned to us for a refund (if the payment is already made).  Note: In case you\\'re still contacted for delivery, please refuse to accept it. For more information on cancelling orders, go  here. To know more about return and refunds, go here. To add and manage address, go  here.     How to place gift orders? You can choose to gift-wrap any item from your shopping cart as long as it is fulfilled             by Amazon. To do this, check the This will be a gift box next to the item that you             want gift-wrapped. Alternatively, check the box next to Ordering a gift? during checkout.             The gift options show on the Delivery & Payment page. Products eligible for this service can be gift wrapped for just ₹30. Visit  Gift Order to know more.    What is Amazon Bazaar? Amazon Bazaar is a new store on Amazon.in, offering a dedicated destination for fashion             and home products at affordable prices. You can find items from clothing, accessories,             and jewelry to handbags, shoes, traditional and western wear, and a wide array of             home goods including kitchenware, towels, bed linens, and décor items. Start shopping             now on Amazon Bazaar! Available only on the Android Amazon shopping app.     More useful links:    Payment Decline or Payment Issues   Contact a third-party or marketplace seller  Our courier partner                      Was this information helpful?                            Yes                                 No                  Thank you for your feedback.                      Please select what best describes the information:                                         This information is confusing or wrong                                               This is not the information I was looking for                                               I do not like this policy                                            Submit                   \\tThank you! While we are unable to respond directly to your feedback,  \\twe will use this information to improve our online Help.                ‹ All Help Topics    Placing Orders  Ordering with Amazon - FAQ  Searching and Browsing for Items   Proceed to Checkout   Availability Message Definitions   Install or Uninstall Amazon Assistant   Change Your Language and Marketplace in Amazon Assistant   Coupons - FAQ   Damaged or Defective Item                        Quick solutions                                                                    Your Orders                                                 Track or cancel orders                                                                                                 Your Orders                                                                                               Track or cancel orders                                                                                                      Returns and Refunds                                                 Return or exchange items                                                                                                 Returns and Refunds                                                                                               Return or exchange items                                                                                                      Manage Prime                                                 Cancel or view benefits                                                                                                 Manage Prime                                                                                               Cancel or view benefits                                                                                                      Payment Settings                                                 Add a new debit or credit card                                                                                                 Payment Settings                                                                                               Add a new debit or credit card                                                                                                      Amazon Gift Cards                                                 Check your gift card balance                                                                                                 Amazon Gift Cards                                                                                               Check your gift card balance                                                                                                      Account Settings                                                 Update email, password or phone                                                                                                 Account Settings                                                                                               Update email, password or phone                                                                                 Back to top         Get to Know Us   About Amazon   Careers   Press Releases   Amazon Science      Connect with Us   Facebook   Twitter   Instagram      Make Money with Us   Sell on Amazon   Sell under Amazon Accelerator   Protect and Build Your Brand   Amazon Global Selling   Supply to Amazon   Become an Affiliate   Fulfilment by Amazon   Advertise Your Products   Amazon Pay on Merchants      Let Us Help You   Your Account   Returns Centre   Recalls and Product Safety Alerts   100% Purchase Protection   Amazon App Download   Help                  English    India       AbeBooksBooks, art& collectibles Amazon Web ServicesScalable CloudComputing Services AudibleDownloadAudio Books IMDbMovies, TV& Celebrities  ShopbopDesignerFashion Brands \\t Amazon BusinessEverything ForYour Business Prime Now 2-Hour Deliveryon Everyday Items Amazon Prime Music100 million songs, ad-freeOver 15 million podcast episodes     Conditions of Use & Sale Privacy Notice Interest-Based Ads © 1996-2025, Amazon.com, Inc. or its affiliates                          '),\n",
              " Document(metadata={'source': 'https://www.amazon.in/gp/help/customer/display.html?ref_=hp_left_v4_sib&nodeId=GW2QNFK3F7T8ULDS', 'title': 'Coupons - FAQ - Amazon Customer Service', 'description': 'Amazon coupons help you save big on your purchases. Collect from a variety of coupons available on our website and get instant discount at the time of checkout. [[[HELP_REGIONAL_995846-T1]]]To check the below information in your preferred regional language, select the link: English, हिन्दी (Hindi), தமிழ் (Tamil), తెలుగు (Telugu), ಕನ್ನಡ (Kannada), മലയാളം (Malayalam), मराठी (Marathi), বাংলা (Bengali).[[[HELP_REGIONAL_995846-T1]]]', 'language': 'en-in'}, page_content='                                Coupons - FAQ - Amazon Customer Service                                                Shortcuts menu   Skip to            Main content                  Keyboard shortcuts        Search  alt + /        Cart  shift + alt + C        Home  shift + alt + H        Orders  shift + alt + O        Open/close shortcuts menu  shift + alt + Z           To move between items, use your keyboard\\'s up or down arrows.                .in                             Delivering to Mumbai 400001                                      Update location                                      All   Select the department you want to search in  All Categories Alexa Skills Amazon Devices Amazon Fashion Amazon Fresh Amazon Fresh Meat Amazon Pharmacy Appliances Apps & Games Audible Audiobooks Baby Beauty Books Car & Motorbike Clothing & Accessories Collectibles Computers & Accessories Deals Electronics Furniture Garden & Outdoors Gift Cards Grocery & Gourmet Foods Health & Personal Care Home & Kitchen Industrial & Scientific Jewellery Kindle Store Luggage & Bags Luxury Beauty Movies & TV Shows MP3 Music Music Musical Instruments Office Products Pet Supplies Prime Video Shoes & Handbags Software Sports, Fitness & Outdoors Subscribe & Save Tools & Home Improvement Toys & Games Under ₹500 Video Games Watches       Search Amazon.in                          EN        Hello, sign in Account & Lists        Returns & Orders    0               Cart                       All              Fresh       MX Player     Sell     Bestsellers     Today\\'s Deals     Mobiles     Fashion     Prime       Customer Service     New Releases      Electronics      Home & Kitchen     Amazon Pay     Car & Motorbike     Computers     Books     Toys & Games     Beauty & Personal Care     Home Improvement     Gift Cards     Health, Household & Personal Care     Sports, Fitness & Outdoors     Grocery & Gourmet Foods     Baby     Custom Products     Video Games     Pet Supplies     Gift Ideas\\t     AmazonBasics     Audible     Subscribe & Save                                     Help and Customer Service                                                  Find more solutions                                                                                Ordering                  \\xa0›\\xa0                        Placing Orders                  \\xa0›\\xa0      Coupons - FAQ   Amazon coupons help you save big on your purchases. Collect from a variety of coupons             available on our website and get instant discount at the time of checkout.      Enjoy from a variety of available coupons.  Collect Coupons Now    Frequently Asked Questions    How do I find and use Amazon Coupons? Where will I find the coupons collected by me? Do I need to copy and paste some coupon code? Can I collect a coupon now and make the purchase later? What happens if I want to return the item purchased using Coupon? If I collect a coupon and purchase multiple quantities of the item, will I get the                      coupon discount on all items? Why am I unable to apply the collected coupon when making a purchase?    1. How do I find and use Amazon Coupons? You can discover coupons through the Coupons Home Page, product detail page, search, product listing pages and in your shopping cart. You             can use coupons by \\'collecting\\' them first by selecting the \\'Collect Coupon\\' button             found in these pages. After you have collected the coupon, your promotional discount             will be displayed on your order summary page during checkout.   2. Where will I find the coupons collected by me? When you visit Amazon Coupons page, you’ll find a “View Coupons” link on the Coupons Bar on top of the page. Once you select it, it’ll take you to             \\'‘Your Coupons\\'’ page showing all the valid coupons collected by you.   3. Do I need to copy and paste some coupon code? There are no visible promo codes to copy and paste. You just have to select on \"Collect             Coupon\" button and the discount will be automatically applied as you proceed to checkout.   4. Can I collect a coupon now and make the purchase later? Yes. The collected coupon will be saved to your account and will be automatically             applied when you purchase the item from the same seller from whom the coupon was collected.             Meanwhile, if the coupon validity expires, it’ll be removed from your account. Go             to the Coupon bar on the Coupons pages to find the Coupons which will expire soon             so you can make a purchase before the expiry. Coupons cannot be reactivated or reissued             once they are expired.   5. What happens if I want to return the item purchased using Coupon?  If you return the item within the return window and want a refund, you\\'ll get the             amount paid by you. If you want a replacement, you\\'ll get it for free without any             additional payment.   6. If I collect a coupon and purchase multiple quantities of the item, will I get             the coupon discount on all items? No. The Coupon discount will be applied only to one unit of your purchase. E.g., if             you collect a Coupon of 10% off on Item X worth ₹100 and you go on purchasing 4 units             of Item X for ₹400, you’ll get a total discount of ₹10 only and not ₹40.   7. Why am I unable to apply the collected coupon when making a purchase?  You might be unable to apply the coupon as some items do not qualify for the coupon.             Please read the T&C of the promotional coupon to get more information about the eligible             items where you can apply the coupon.   Note:   Ensure to use a coupon offered only on Amazon.in since we don\\'t accept coupons not                      listed on our website.  Coupons can be used on Subscribe & Save items when you sign up for a new subscription.                      The coupon will only apply to the first delivery. It\\'s not possible to redeem coupons                      for the existing subscriptions.    To check all currently available coupon offers, visit the link below and sign in             to your account:  https://www.amazon.in/coupons                     Was this information helpful?                            Yes                                 No                  Thank you for your feedback.                      Please select what best describes the information:                                         This information is confusing or wrong                                               This is not the information I was looking for                                               I do not like this policy                                            Submit                   \\tThank you! While we are unable to respond directly to your feedback,  \\twe will use this information to improve our online Help.                ‹ All Help Topics    Placing Orders   Ordering with Amazon - FAQ   Searching and Browsing for Items   Proceed to Checkout   Availability Message Definitions   Install or Uninstall Amazon Assistant   Change Your Language and Marketplace in Amazon Assistant  Coupons - FAQ  Damaged or Defective Item                        Quick solutions                                                                    Your Orders                                                 Track or cancel orders                                                                                                 Your Orders                                                                                               Track or cancel orders                                                                                                      Returns and Refunds                                                 Return or exchange items                                                                                                 Returns and Refunds                                                                                               Return or exchange items                                                                                                      Manage Prime                                                 Cancel or view benefits                                                                                                 Manage Prime                                                                                               Cancel or view benefits                                                                                                      Payment Settings                                                 Add a new debit or credit card                                                                                                 Payment Settings                                                                                               Add a new debit or credit card                                                                                                      Amazon Gift Cards                                                 Check your gift card balance                                                                                                 Amazon Gift Cards                                                                                               Check your gift card balance                                                                                                      Account Settings                                                 Update email, password or phone                                                                                                 Account Settings                                                                                               Update email, password or phone                                                                                 Back to top         Get to Know Us   About Amazon   Careers   Press Releases   Amazon Science      Connect with Us   Facebook   Twitter   Instagram      Make Money with Us   Sell on Amazon   Sell under Amazon Accelerator   Protect and Build Your Brand   Amazon Global Selling   Supply to Amazon   Become an Affiliate   Fulfilment by Amazon   Advertise Your Products   Amazon Pay on Merchants      Let Us Help You   Your Account   Returns Centre   Recalls and Product Safety Alerts   100% Purchase Protection   Amazon App Download   Help                  English    India       AbeBooksBooks, art& collectibles Amazon Web ServicesScalable CloudComputing Services AudibleDownloadAudio Books IMDbMovies, TV& Celebrities  ShopbopDesignerFashion Brands \\t Amazon BusinessEverything ForYour Business Prime Now 2-Hour Deliveryon Everyday Items Amazon Prime Music100 million songs, ad-freeOver 15 million podcast episodes     Conditions of Use & Sale Privacy Notice Interest-Based Ads © 1996-2025, Amazon.com, Inc. or its affiliates                           ')]"
            ]
          },
          "metadata": {},
          "execution_count": 32
        }
      ]
    },
    {
      "cell_type": "code",
      "source": [
        "text_splitter = RecursiveCharacterTextSplitter(\n",
        "    chunk_size = 1000,\n",
        "    chunk_overlap  = 0,\n",
        ")"
      ],
      "metadata": {
        "id": "O5m39ULcLcZo"
      },
      "execution_count": null,
      "outputs": []
    },
    {
      "cell_type": "code",
      "source": [
        "chunks = text_splitter.split_documents(docs)"
      ],
      "metadata": {
        "id": "CRd0HZn9LgE2"
      },
      "execution_count": null,
      "outputs": []
    },
    {
      "cell_type": "code",
      "source": [
        "len(chunks)"
      ],
      "metadata": {
        "colab": {
          "base_uri": "https://localhost:8080/"
        },
        "id": "XsOBgw06nxp_",
        "outputId": "5673a7f7-2b4b-47e1-d179-4652fb686240"
      },
      "execution_count": null,
      "outputs": [
        {
          "output_type": "execute_result",
          "data": {
            "text/plain": [
              "26"
            ]
          },
          "metadata": {},
          "execution_count": 14
        }
      ]
    },
    {
      "cell_type": "code",
      "source": [
        "embeddings = GoogleGenerativeAIEmbeddings(model=\"models/text-embedding-004\")"
      ],
      "metadata": {
        "id": "OzHePIamLbNF"
      },
      "execution_count": null,
      "outputs": []
    },
    {
      "cell_type": "code",
      "source": [
        "try:\n",
        "  client = QdrantClient(path=\"/db\")\n",
        "\n",
        "  client.create_collection(\n",
        "    collection_name=\"rag\",\n",
        "    vectors_config=VectorParams(size=768, distance=Distance.COSINE),\n",
        "  )\n",
        "except RuntimeError as e:\n",
        "  print(\"Qdrant client already exists\")"
      ],
      "metadata": {
        "id": "AEw01wwkKzhi"
      },
      "execution_count": null,
      "outputs": []
    },
    {
      "cell_type": "code",
      "source": [
        "!ls /db/collection/"
      ],
      "metadata": {
        "colab": {
          "base_uri": "https://localhost:8080/"
        },
        "id": "bW_9fLLaRFW2",
        "outputId": "55ab9921-161b-4248-c6ff-d37b604b498d"
      },
      "execution_count": null,
      "outputs": [
        {
          "output_type": "stream",
          "name": "stdout",
          "text": [
            "rag\n"
          ]
        }
      ]
    },
    {
      "cell_type": "code",
      "source": [
        "vector_store = QdrantVectorStore(\n",
        "    client=client,\n",
        "    collection_name=\"rag\",\n",
        "    embedding=embeddings,\n",
        ")"
      ],
      "metadata": {
        "id": "HJYlDjJoJiTJ"
      },
      "execution_count": null,
      "outputs": []
    },
    {
      "cell_type": "code",
      "source": [
        "vector_store.add_documents(chunks)"
      ],
      "metadata": {
        "id": "VMY4S8eiNkzR"
      },
      "execution_count": null,
      "outputs": []
    },
    {
      "cell_type": "code",
      "source": [
        "retriever = vector_store.as_retriever(search_kwargs={\"k\":4})"
      ],
      "metadata": {
        "id": "mXXjvpWiM59S"
      },
      "execution_count": null,
      "outputs": []
    },
    {
      "cell_type": "code",
      "source": [
        "user_query = \"What happens if I want to return the item purchased using Coupon?\"\n",
        "retriever.invoke(user_query)"
      ],
      "metadata": {
        "colab": {
          "base_uri": "https://localhost:8080/"
        },
        "id": "xMmusKkdNB_F",
        "outputId": "e92a0144-a474-4d9b-e73a-7abac0ded164"
      },
      "execution_count": null,
      "outputs": [
        {
          "output_type": "execute_result",
          "data": {
            "text/plain": [
              "[Document(metadata={'source': 'https://www.amazon.in/gp/help/customer/display.html?ref_=hp_left_v4_sib&nodeId=GW2QNFK3F7T8ULDS', 'title': 'Coupons - FAQ - Amazon Customer Service', 'description': 'Amazon coupons help you save big on your purchases. Collect from a variety of coupons available on our website and get instant discount at the time of checkout. [[[HELP_REGIONAL_995846-T1]]]To check the below information in your preferred regional language, select the link: English, हिन्दी (Hindi), தமிழ் (Tamil), తెలుగు (Telugu), ಕನ್ನಡ (Kannada), മലയാളം (Malayalam), मराठी (Marathi), বাংলা (Bengali).[[[HELP_REGIONAL_995846-T1]]]', 'language': 'en-in', '_id': 'b2ffa01d78384a81a07af104d4f26874', '_collection_name': 'rag'}, page_content=\"the discount will be automatically applied as you proceed to checkout.   4. Can I collect a coupon now and make the purchase later? Yes. The collected coupon will be saved to your account and will be automatically             applied when you purchase the item from the same seller from whom the coupon was collected.             Meanwhile, if the coupon validity expires, it’ll be removed from your account. Go             to the Coupon bar on the Coupons pages to find the Coupons which will expire soon             so you can make a purchase before the expiry. Coupons cannot be reactivated or reissued             once they are expired.   5. What happens if I want to return the item purchased using Coupon?  If you return the item within the return window and want a refund, you'll get the             amount paid by you. If you want a replacement, you'll get it for free without any             additional payment.   6. If I collect a coupon and purchase multiple quantities of the item, will\"),\n",
              " Document(metadata={'source': 'https://www.amazon.in/gp/help/customer/display.html?ref_=hp_left_v4_sib&nodeId=GW2QNFK3F7T8ULDS', 'title': 'Coupons - FAQ - Amazon Customer Service', 'description': 'Amazon coupons help you save big on your purchases. Collect from a variety of coupons available on our website and get instant discount at the time of checkout. [[[HELP_REGIONAL_995846-T1]]]To check the below information in your preferred regional language, select the link: English, हिन्दी (Hindi), தமிழ் (Tamil), తెలుగు (Telugu), ಕನ್ನಡ (Kannada), മലയാളം (Malayalam), मराठी (Marathi), বাংলা (Bengali).[[[HELP_REGIONAL_995846-T1]]]', 'language': 'en-in', '_id': '99f9af99ecad49229407f89914266980', '_collection_name': 'rag'}, page_content=\"I get             the coupon discount on all items? No. The Coupon discount will be applied only to one unit of your purchase. E.g., if             you collect a Coupon of 10% off on Item X worth ₹100 and you go on purchasing 4 units             of Item X for ₹400, you’ll get a total discount of ₹10 only and not ₹40.   7. Why am I unable to apply the collected coupon when making a purchase?  You might be unable to apply the coupon as some items do not qualify for the coupon.             Please read the T&C of the promotional coupon to get more information about the eligible             items where you can apply the coupon.   Note:   Ensure to use a coupon offered only on Amazon.in since we don't accept coupons not                      listed on our website.  Coupons can be used on Subscribe & Save items when you sign up for a new subscription.                      The coupon will only apply to the first delivery. It's not possible to redeem coupons                      for the\"),\n",
              " Document(metadata={'source': 'https://www.amazon.in/gp/help/customer/display.html?ref_=hp_left_v4_sib&nodeId=GW2QNFK3F7T8ULDS', 'title': 'Coupons - FAQ - Amazon Customer Service', 'description': 'Amazon coupons help you save big on your purchases. Collect from a variety of coupons available on our website and get instant discount at the time of checkout. [[[HELP_REGIONAL_995846-T1]]]To check the below information in your preferred regional language, select the link: English, हिन्दी (Hindi), தமிழ் (Tamil), తెలుగు (Telugu), ಕನ್ನಡ (Kannada), മലയാളം (Malayalam), मराठी (Marathi), বাংলা (Bengali).[[[HELP_REGIONAL_995846-T1]]]', 'language': 'en-in', '_id': '3829b592fd324490a5c02fcd343a0bad', '_collection_name': 'rag'}, page_content='AmazonBasics     Audible     Subscribe & Save                                     Help and Customer Service                                                  Find more solutions                                                                                Ordering                  \\xa0›\\xa0                        Placing Orders                  \\xa0›\\xa0      Coupons - FAQ   Amazon coupons help you save big on your purchases. Collect from a variety of coupons             available on our website and get instant discount at the time of checkout.      Enjoy from a variety of available coupons.  Collect Coupons Now    Frequently Asked Questions    How do I find and use Amazon Coupons? Where will I find the coupons collected by me? Do I need to copy and paste some coupon code? Can I collect a coupon now and make the purchase later? What happens if I want to return the item purchased using Coupon? If I collect a coupon and purchase multiple quantities of the item, will I get the'),\n",
              " Document(metadata={'source': 'https://www.amazon.in/gp/help/customer/display.html?ref_=hp_left_v4_sib&nodeId=GW2QNFK3F7T8ULDS', 'title': 'Coupons - FAQ - Amazon Customer Service', 'description': 'Amazon coupons help you save big on your purchases. Collect from a variety of coupons available on our website and get instant discount at the time of checkout. [[[HELP_REGIONAL_995846-T1]]]To check the below information in your preferred regional language, select the link: English, हिन्दी (Hindi), தமிழ் (Tamil), తెలుగు (Telugu), ಕನ್ನಡ (Kannada), മലയാളം (Malayalam), मराठी (Marathi), বাংলা (Bengali).[[[HELP_REGIONAL_995846-T1]]]', 'language': 'en-in', '_id': '4f94ac5b5d624274b428fd565c23ec18', '_collection_name': 'rag'}, page_content='coupon discount on all items? Why am I unable to apply the collected coupon when making a purchase?    1. How do I find and use Amazon Coupons? You can discover coupons through the Coupons Home Page, product detail page, search, product listing pages and in your shopping cart. You             can use coupons by \\'collecting\\' them first by selecting the \\'Collect Coupon\\' button             found in these pages. After you have collected the coupon, your promotional discount             will be displayed on your order summary page during checkout.   2. Where will I find the coupons collected by me? When you visit Amazon Coupons page, you’ll find a “View Coupons” link on the Coupons Bar on top of the page. Once you select it, it’ll take you to             \\'‘Your Coupons\\'’ page showing all the valid coupons collected by you.   3. Do I need to copy and paste some coupon code? There are no visible promo codes to copy and paste. You just have to select on \"Collect             Coupon\" button and')]"
            ]
          },
          "metadata": {},
          "execution_count": 26
        }
      ]
    },
    {
      "cell_type": "code",
      "source": [
        "template = \"\"\"You are an customer service assistant for question-answering tasks.\n",
        "Use the following pieces of retrieved CONTEXT to answer the QUESTION.\n",
        "If you don't know the answer, just say that you don't know.\n",
        "---------------------\n",
        "CONTEXT: {context}\n",
        "---------------------\n",
        "Given this information, please answer the QUESTION: {query}.\n",
        "\"\"\"\n",
        "\n",
        "prompt = PromptTemplate.from_template(template)"
      ],
      "metadata": {
        "id": "eN1S_nFjOCjz"
      },
      "execution_count": null,
      "outputs": []
    },
    {
      "cell_type": "code",
      "source": [
        "llm = ChatGoogleGenerativeAI(model=\"gemini-2.0-flash\")"
      ],
      "metadata": {
        "id": "MxSDBlp2LWZd"
      },
      "execution_count": null,
      "outputs": []
    },
    {
      "cell_type": "code",
      "source": [
        "llm.invoke(\"What is the capital of India?\").content"
      ],
      "metadata": {
        "colab": {
          "base_uri": "https://localhost:8080/",
          "height": 35
        },
        "id": "kZ0Jujj0rI8q",
        "outputId": "f257a478-1fa6-4203-9965-0f56feb2d55d"
      },
      "execution_count": null,
      "outputs": [
        {
          "output_type": "execute_result",
          "data": {
            "text/plain": [
              "'The capital of India is **New Delhi**.'"
            ],
            "application/vnd.google.colaboratory.intrinsic+json": {
              "type": "string"
            }
          },
          "metadata": {},
          "execution_count": 31
        }
      ]
    },
    {
      "cell_type": "code",
      "source": [
        "output_parser = StrOutputParser()\n",
        "\n",
        "chain = (\n",
        "    {\n",
        "        \"context\": retriever.with_config(run_name=\"Docs\"),\n",
        "        \"query\": RunnablePassthrough(),\n",
        "    }\n",
        "    | prompt\n",
        "    | llm\n",
        "    | output_parser\n",
        ")"
      ],
      "metadata": {
        "id": "2Qr59ubvLYoI"
      },
      "execution_count": null,
      "outputs": []
    },
    {
      "cell_type": "code",
      "source": [
        "for chunk in chain.stream(user_query):\n",
        "  print(chunk, end=\"\", flush=True)"
      ],
      "metadata": {
        "colab": {
          "base_uri": "https://localhost:8080/"
        },
        "id": "FCviExcIQL00",
        "outputId": "ea84bb37-e638-4927-ffcd-54dfdac74789"
      },
      "execution_count": null,
      "outputs": [
        {
          "output_type": "stream",
          "name": "stdout",
          "text": [
            "If you return the item within the return window and want a refund, you'll get the amount you paid. If you want a replacement, you'll get it for free without any additional payment.\n"
          ]
        }
      ]
    },
    {
      "cell_type": "code",
      "source": [
        "response = chain.invoke(\"who is Virat Kohli?\")"
      ],
      "metadata": {
        "id": "PUOkhfraQgSx"
      },
      "execution_count": null,
      "outputs": []
    },
    {
      "cell_type": "code",
      "source": [
        "print(response)"
      ],
      "metadata": {
        "colab": {
          "base_uri": "https://localhost:8080/"
        },
        "id": "mccP6Ur3QubT",
        "outputId": "75b8293b-5b3c-4658-8ad3-404ad686c5d9"
      },
      "execution_count": null,
      "outputs": [
        {
          "output_type": "stream",
          "name": "stdout",
          "text": [
            "I'm sorry, but the provided context does not contain information about Virat Kohli.\n"
          ]
        }
      ]
    }
  ]
}